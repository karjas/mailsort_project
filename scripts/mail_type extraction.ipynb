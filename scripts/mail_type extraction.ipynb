{
 "cells": [
  {
   "cell_type": "code",
   "execution_count": 1,
   "metadata": {},
   "outputs": [],
   "source": [
    "import pandas as pd\n",
    "import numpy as np\n",
    "import matplotlib.pyplot as plt"
   ]
  },
  {
   "cell_type": "code",
   "execution_count": 2,
   "metadata": {},
   "outputs": [],
   "source": [
    "df = pd.read_csv(\"../data/train.csv\")\n",
    "lab = df[\"label\"].values"
   ]
  },
  {
   "cell_type": "code",
   "execution_count": 3,
   "metadata": {},
   "outputs": [],
   "source": [
    "mails = df[\"mail_type\"].values\n",
    "N = len(mails)"
   ]
  },
  {
   "cell_type": "code",
   "execution_count": 18,
   "metadata": {},
   "outputs": [
    {
     "name": "stdout",
     "output_type": "stream",
     "text": [
      "nan\n",
      "nan\n",
      "nan\n",
      "nan\n",
      "nan\n",
      "nan\n",
      "nan\n",
      "nan\n",
      "nan\n",
      "nan\n",
      "nan\n",
      "nan\n",
      "nan\n",
      "nan\n",
      "nan\n",
      "nan\n",
      "nan\n",
      "nan\n",
      "nan\n",
      "nan\n",
      "nan\n",
      "nan\n",
      "nan\n"
     ]
    }
   ],
   "source": [
    "# Find the unique types, used as basis later\n",
    "types = set()\n",
    "for m in mails:\n",
    "    \n",
    "    if \"/\" in str(m):\n",
    "        t = m.split(\"/\")\n",
    "        types.update(t)\n",
    "    else:\n",
    "        print(m)\n",
    "types = list(types)"
   ]
  },
  {
   "cell_type": "code",
   "execution_count": 10,
   "metadata": {},
   "outputs": [],
   "source": [
    "type_matr = np.zeros((len(mails),len(types)))"
   ]
  },
  {
   "cell_type": "code",
   "execution_count": 20,
   "metadata": {},
   "outputs": [],
   "source": [
    "for i in range(N):\n",
    "    m = mails[i]\n",
    "    if \"/\" in str(m):\n",
    "        tt = m.split(\"/\")\n",
    "        idx = []\n",
    "        for t in tt:\n",
    "            idx.append(types.index(t))\n",
    "        type_matr[i,idx] = 1\n",
    "        "
   ]
  },
  {
   "cell_type": "code",
   "execution_count": 22,
   "metadata": {},
   "outputs": [
    {
     "name": "stdout",
     "output_type": "stream",
     "text": [
      "(25066, 13)\n"
     ]
    }
   ],
   "source": [
    "print(type_matr.shape)\n"
   ]
  },
  {
   "cell_type": "code",
   "execution_count": 23,
   "metadata": {},
   "outputs": [],
   "source": [
    "U, S, V = np.linalg.svd(type_matr)"
   ]
  },
  {
   "cell_type": "code",
   "execution_count": 24,
   "metadata": {},
   "outputs": [
    {
     "name": "stdout",
     "output_type": "stream",
     "text": [
      "[1.97214626e+02 8.39736934e+01 4.87961568e+01 3.30517597e+01\n",
      " 2.49013347e+01 6.52060461e+00 1.41421356e+00 1.21725736e+00\n",
      " 1.11793798e+00 3.10564716e-12 1.19299972e-13 5.15651622e-16\n",
      " 2.63915815e-17]\n"
     ]
    }
   ],
   "source": [
    "print(S)"
   ]
  },
  {
   "cell_type": "code",
   "execution_count": 27,
   "metadata": {},
   "outputs": [
    {
     "name": "stdout",
     "output_type": "stream",
     "text": [
      "[[-1.86727579e-05 -6.86720886e-01 -7.26232270e-01  0.00000000e+00\n",
      "   4.25937393e-35 -9.22785391e-03  0.00000000e+00 -1.11570475e-33\n",
      "  -7.42933138e-36  0.00000000e+00 -3.02648575e-02 -1.40715448e-33\n",
      "  -7.35071006e-33]\n",
      " [ 6.79307508e-20  1.17955389e-19 -6.79307508e-20 -6.33818123e-17\n",
      "  -3.97061309e-17  8.74029479e-20  1.83700270e-20  7.49069982e-01\n",
      "   2.36976761e-17  3.98661322e-22  6.04162637e-20  9.31622456e-02\n",
      "   6.55907736e-01]\n",
      " [-1.72506848e-04  4.69748028e-01 -4.10577497e-01  0.00000000e+00\n",
      "  -1.24773505e-33 -1.05839909e-01  0.00000000e+00  7.00682894e-31\n",
      "  -4.08696875e-33  0.00000000e+00 -7.74313110e-01 -7.07142565e-31\n",
      "  -2.77816558e-30]]\n"
     ]
    }
   ],
   "source": [
    "print(V[0:3,:])"
   ]
  },
  {
   "cell_type": "code",
   "execution_count": null,
   "metadata": {},
   "outputs": [],
   "source": []
  }
 ],
 "metadata": {
  "kernelspec": {
   "display_name": "Python 3",
   "language": "python",
   "name": "python3"
  },
  "language_info": {
   "codemirror_mode": {
    "name": "ipython",
    "version": 3
   },
   "file_extension": ".py",
   "mimetype": "text/x-python",
   "name": "python",
   "nbconvert_exporter": "python",
   "pygments_lexer": "ipython3",
   "version": "3.7.5"
  }
 },
 "nbformat": 4,
 "nbformat_minor": 2
}
