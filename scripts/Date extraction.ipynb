{
 "cells": [
  {
   "cell_type": "code",
   "execution_count": 1,
   "metadata": {},
   "outputs": [],
   "source": [
    "import pandas as pd\n",
    "import numpy as np\n",
    "import matplotlib.pyplot as plt\n",
    "from datetime import datetime\n",
    "import re\n",
    "from itertools import compress\n",
    "import pytz"
   ]
  },
  {
   "cell_type": "code",
   "execution_count": 2,
   "metadata": {},
   "outputs": [],
   "source": [
    "df = pd.read_csv(\"../data/train.csv\")\n",
    "lab = df[\"label\"].values"
   ]
  },
  {
   "cell_type": "code",
   "execution_count": 3,
   "metadata": {},
   "outputs": [
    {
     "name": "stdout",
     "output_type": "stream",
     "text": [
      "Thu, 17 Mar 2016 01:57:16 +0000\n"
     ]
    }
   ],
   "source": [
    "dates_ = df[\"date\"].values\n",
    "print(dates_[0])"
   ]
  },
  {
   "cell_type": "code",
   "execution_count": 4,
   "metadata": {},
   "outputs": [],
   "source": [
    "times = []\n",
    "i = 0\n",
    "for d in dates_:\n",
    "    m = re.search(\"..:..:..\",d)\n",
    "    t = datetime.strptime(m.group(0), \"%X\")\n",
    "    s = 60*60*t.hour + 60*t.minute + t.second\n",
    "    times.append(s)\n",
    "        "
   ]
  },
  {
   "cell_type": "code",
   "execution_count": 5,
   "metadata": {},
   "outputs": [],
   "source": [
    "times2 = []\n",
    "days2 = []\n",
    "days1 = []\n",
    "for d in dates_:\n",
    "    dd = d.split(\" (\")\n",
    "    \n",
    "    dd[0] = dd[0].replace(\"GMT\",\"\").rstrip()\n",
    "    \n",
    "    \n",
    "    try:\n",
    "        t = datetime.strptime(dd[0],\"%a, %d %b %Y %X %z\")\n",
    "\n",
    "    except:\n",
    "        try:\n",
    "            t = datetime.strptime(dd[0], \"%d %b %Y %X %z\")\n",
    "        except:\n",
    "            try:\n",
    "                t = datetime.strptime(dd[0], \"%a, %d %b %Y %X\")\n",
    "            except:\n",
    "                t = datetime.now()\n",
    "    days1.append(t.weekday())\n",
    "    t = t.astimezone(pytz.utc)\n",
    "    s = 60*60*t.hour + 60*t.minute + t.second\n",
    "    times2.append(s)\n",
    "    days2.append(t.weekday())"
   ]
  },
  {
   "cell_type": "code",
   "execution_count": 44,
   "metadata": {},
   "outputs": [],
   "source": [
    "secs = [s%60 for s in times]\n",
    "zero_sec = [int(s == 0) for s in secs]"
   ]
  },
  {
   "cell_type": "code",
   "execution_count": 45,
   "metadata": {},
   "outputs": [
    {
     "name": "stdout",
     "output_type": "stream",
     "text": [
      "Index(['Id', 'date', 'org', 'tld', 'ccs', 'bcced', 'mail_type', 'images',\n",
      "       'urls', 'salutations', 'designation', 'chars_in_subject',\n",
      "       'chars_in_body', 'label', 'time_tz_corr', 'time', 'weekdays_tz_corr',\n",
      "       'weekdays', 'seconds', 'zero_sec'],\n",
      "      dtype='object')\n"
     ]
    }
   ],
   "source": [
    "df[\"time_tz_corr\"] = times2\n",
    "df[\"time\"] = times\n",
    "df[\"weekdays_tz_corr\"] = days2\n",
    "df[\"weekdays\"] = days1\n",
    "df[\"zero_sec\"] = zero_sec\n",
    "df.to_csv(\"data_dates.csv\")\n",
    "print(df.columns)"
   ]
  },
  {
   "cell_type": "code",
   "execution_count": 7,
   "metadata": {},
   "outputs": [],
   "source": [
    "up =list(compress(times, lab == 0))\n",
    "so =list(compress(times, lab == 1))\n",
    "fo =list(compress(times, lab == 2))\n",
    "pr =list(compress(times, lab == 3))"
   ]
  },
  {
   "cell_type": "code",
   "execution_count": 8,
   "metadata": {},
   "outputs": [
    {
     "data": {
      "image/png": "[encoded data removed]",
      "text/plain": [
       "<Figure size 432x288 with 1 Axes>"
      ]
     },
     "metadata": {
      "needs_background": "light"
     },
     "output_type": "display_data"
    }
   ],
   "source": [
    "bins = np.linspace(0,max(times),50)\n",
    "plt.hist([pr,up,so,fo],bins = bins, stacked=True)\n",
    "plt.legend([\"Update\", \"Social\", \"Forums\", \"Promo\"])\n",
    "plt.xlabel(\"time (s)\")\n",
    "plt.savefig(\"time.png\")"
   ]
  },
  {
   "cell_type": "code",
   "execution_count": 9,
   "metadata": {
    "scrolled": true
   },
   "outputs": [
    {
     "data": {
      "image/png": "[encoded data removed]",
      "text/plain": [
       "<Figure size 432x288 with 1 Axes>"
      ]
     },
     "metadata": {
      "needs_background": "light"
     },
     "output_type": "display_data"
    }
   ],
   "source": [
    "up2 =list(compress(times2, lab == 0))\n",
    "so2 =list(compress(times2, lab == 1))\n",
    "fo2 =list(compress(times2, lab == 2))\n",
    "pr2 =list(compress(times2, lab == 3))\n",
    "bins = np.linspace(0,max(times),50)\n",
    "x,y,_ = plt.hist([pr2,up2,so2,fo2],bins = bins, stacked=True)\n",
    "plt.legend([\"Update\", \"Social\", \"Forums\", \"Promo\"])\n",
    "plt.xlabel(\"time (s)\")\n",
    "plt.savefig(\"time.png\")"
   ]
  },
  {
   "cell_type": "code",
   "execution_count": 10,
   "metadata": {},
   "outputs": [
    {
     "name": "stdout",
     "output_type": "stream",
     "text": [
      "19\n"
     ]
    },
    {
     "data": {
      "text/plain": [
       "9.304829931972789"
      ]
     },
     "execution_count": 10,
     "metadata": {},
     "output_type": "execute_result"
    }
   ],
   "source": [
    "xm = x[1].argmax(axis=0)\n",
    "print(xm)\n",
    "y[xm]/3600"
   ]
  },
  {
   "cell_type": "code",
   "execution_count": 11,
   "metadata": {},
   "outputs": [],
   "source": [
    "df[\"seconds\"] = times"
   ]
  },
  {
   "cell_type": "code",
   "execution_count": 12,
   "metadata": {},
   "outputs": [
    {
     "name": "stdout",
     "output_type": "stream",
     "text": [
      "Index(['Id', 'date', 'org', 'tld', 'ccs', 'bcced', 'mail_type', 'images',\n",
      "       'urls', 'salutations', 'designation', 'chars_in_subject',\n",
      "       'chars_in_body', 'label', 'time_tz_corr', 'time', 'weekdays_tz_corr',\n",
      "       'weekdays', 'seconds'],\n",
      "      dtype='object')\n"
     ]
    }
   ],
   "source": [
    "print(df.columns)"
   ]
  },
  {
   "cell_type": "code",
   "execution_count": 13,
   "metadata": {},
   "outputs": [
    {
     "data": {
      "text/plain": [
       "Text(0.5, 0, 'Day')"
      ]
     },
     "execution_count": 13,
     "metadata": {},
     "output_type": "execute_result"
    },
    {
     "data": {
      "image/png": "[encoded data removed]",
      "text/plain": [
       "<Figure size 432x288 with 1 Axes>"
      ]
     },
     "metadata": {
      "needs_background": "light"
     },
     "output_type": "display_data"
    }
   ],
   "source": [
    "upd =list(compress(days2, lab == 0))\n",
    "sod =list(compress(days2, lab == 1))\n",
    "fod =list(compress(days2, lab == 2))\n",
    "prd =list(compress(days2, lab == 3))\n",
    "\n",
    "dbins = np.linspace(-0.5,6.5,8)\n",
    "\n",
    "plt.hist([prd,upd,sod,fod],bins = dbins, stacked=True)\n",
    "plt.legend([\"Update\", \"Social\", \"Forums\", \"Promo\"])\n",
    "plt.xlabel(\"Day\")"
   ]
  },
  {
   "cell_type": "code",
   "execution_count": 14,
   "metadata": {},
   "outputs": [
    {
     "data": {
      "text/plain": [
       "Text(0.5, 0, 'Day')"
      ]
     },
     "execution_count": 14,
     "metadata": {},
     "output_type": "execute_result"
    },
    {
     "data": {
      "image/png": "[encoded data removed]",
      "text/plain": [
       "<Figure size 432x288 with 1 Axes>"
      ]
     },
     "metadata": {
      "needs_background": "light"
     },
     "output_type": "display_data"
    }
   ],
   "source": [
    "upd1 =list(compress(days1, lab == 0))\n",
    "sod1 =list(compress(days1, lab == 1))\n",
    "fod1 =list(compress(days1, lab == 2))\n",
    "prd1 =list(compress(days1, lab == 3))\n",
    "\n",
    "dbins = np.linspace(-0.5,6.5,8)\n",
    "\n",
    "plt.hist([sod1,prd1,fod1,upd1],bins = dbins, stacked=True)\n",
    "plt.legend([\"Social\", \"Promo\", \"Forums\", \"Update\"])\n",
    "plt.xlabel(\"Day\")"
   ]
  },
  {
   "cell_type": "code",
   "execution_count": 15,
   "metadata": {},
   "outputs": [],
   "source": []
  },
  {
   "cell_type": "code",
   "execution_count": 41,
   "metadata": {},
   "outputs": [],
   "source": [
    "def hists(data, labels,bins = [], order = range(4)):\n",
    "    \n",
    "    u =list(compress(data, labels == 0))\n",
    "    s =list(compress(data, labels == 1))\n",
    "    f =list(compress(data, labels == 2))\n",
    "    p =list(compress(data, labels == 3))\n",
    "    \n",
    "    c = np.array([\"tab:blue\",\"tab:orange\",\"tab:green\",\"tab:red\"])[order]\n",
    "    \n",
    "    pl = np.array([u,s,f,p])[order]\n",
    "    \n",
    "    if len(bins) > 0:\n",
    "        plt.hist(pl, bins = bins,stacked=True, color = c)\n",
    "    else:\n",
    "        plt.hist([u,s,f,p],stacked = True, color = c)\n",
    "    leg = np.array([\"Update\",\"Social\",\"Forum\",\"Promo\"])\n",
    "    plt.legend(leg[order])"
   ]
  },
  {
   "cell_type": "code",
   "execution_count": 42,
   "metadata": {},
   "outputs": [
    {
     "data": {
      "image/png": "[encoded data removed]",
      "text/plain": [
       "<Figure size 432x288 with 1 Axes>"
      ]
     },
     "metadata": {
      "needs_background": "light"
     },
     "output_type": "display_data"
    }
   ],
   "source": [
    "bins = np.linspace(0,60,60)\n",
    "order = [1,2,3,0]\n",
    "hists(secs,lab,bins = bins, order = order)"
   ]
  },
  {
   "cell_type": "code",
   "execution_count": null,
   "metadata": {},
   "outputs": [],
   "source": [
    "secs"
   ]
  }
 ],
 "metadata": {
  "kernelspec": {
   "display_name": "Python 3",
   "language": "python",
   "name": "python3"
  },
  "language_info": {
   "codemirror_mode": {
    "name": "ipython",
    "version": 3
   },
   "file_extension": ".py",
   "mimetype": "text/x-python",
   "name": "python",
   "nbconvert_exporter": "python",
   "pygments_lexer": "ipython3",
   "version": "3.7.5"
  }
 },
 "nbformat": 4,
 "nbformat_minor": 2
}
